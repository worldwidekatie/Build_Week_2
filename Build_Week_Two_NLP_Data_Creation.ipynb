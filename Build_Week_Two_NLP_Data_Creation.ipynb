{
  "nbformat": 4,
  "nbformat_minor": 0,
  "metadata": {
    "colab": {
      "name": "Build_Week_Two_NLP_Data_Creation.ipynb",
      "provenance": [],
      "authorship_tag": "ABX9TyMWMOowW7iuwmtqX4eovRc/",
      "include_colab_link": true
    },
    "kernelspec": {
      "name": "python3",
      "display_name": "Python 3"
    }
  },
  "cells": [
    {
      "cell_type": "markdown",
      "metadata": {
        "id": "view-in-github",
        "colab_type": "text"
      },
      "source": [
        "<a href=\"https://colab.research.google.com/github/worldwidekatie/Build_Week_2/blob/master/Build_Week_Two_NLP_Data_Creation.ipynb\" target=\"_parent\"><img src=\"https://colab.research.google.com/assets/colab-badge.svg\" alt=\"Open In Colab\"/></a>"
      ]
    },
    {
      "cell_type": "markdown",
      "metadata": {
        "id": "B6chmG-vlZOB",
        "colab_type": "text"
      },
      "source": [
        "#Build Week Two NLP Notebook\n",
        "##Can we predict if a tweet came from Russian trolls or not purely based on writing style and keywords?"
      ]
    },
    {
      "cell_type": "markdown",
      "metadata": {
        "id": "JpEXFEFalSTw",
        "colab_type": "text"
      },
      "source": [
        "For my target dataset I am using a dataset of over 3 million Russian troll tweets from fivethirtyeight.\n",
        "\n",
        "Dataset: [Three Million Troll Tweets](https://www.kaggle.com/fivethirtyeight/russian-troll-tweets/version/1)\n",
        "\n",
        "Header | Definition\n",
        "---|---------\n",
        "`external_author_id` | An author account ID from Twitter \n",
        "`author` | The handle sending the tweet\n",
        "`content` | The text of the tweet\n",
        "`region` | A region classification, as [determined by Social Studio](https://help.salesforce.com/articleView?   id=000199367&type=1)\n",
        "`language` | The language of the tweet\n",
        "`publish_date` | The date and time the tweet was sent\n",
        "`harvested_date` | The date and time the tweet was collected by Social Studio\n",
        "`following` | The number of accounts the handle was following at the time of the tweet\n",
        "`followers` | The number of followers the handle had at the time of the tweet\n",
        "`updates` | The number of “update actions” on the account that authored the tweet, including tweets, retweets and likes\n",
        "`post_type` | Indicates if the tweet was a retweet or a quote-tweet\n",
        "`account_type` | Specific account theme, as coded by Linvill and Warren\n",
        "`retweet` | A binary indicator of whether or not the tweet is a retweet\n",
        "`account_category` | General account theme, as coded by Linvill and Warren\n",
        "`new_june_2018` | A binary indicator of whether the handle was newly listed in June 2018"
      ]
    },
    {
      "cell_type": "markdown",
      "metadata": {
        "id": "Fq0lgNvynFZp",
        "colab_type": "text"
      },
      "source": [
        "[Non-IRA tweets](https://www.kaggle.com/kazanova/sentiment140), accessed via a Kaggle database for sentiment analysis\n",
        "\n",
        "Dataset citation: Go, A., Bhayani, R. and Huang, L., 2009. Twitter sentiment classification using distant supervision. CS224N Project Report, Stanford, 1(2009), p.12.\n",
        "\n",
        "target: the polarity of the tweet (0 = negative, 2 = neutral, 4 = positive)\n",
        "\n",
        "ids: The id of the tweet ( 2087)\n",
        "\n",
        "date: the date of the tweet (Sat May 16 23:58:44 UTC 2009)\n",
        "\n",
        "flag: The query (lyx). If there is no query, then this value is NO_QUERY.\n",
        "\n",
        "user: the user that tweeted (robotickilldozr)\n",
        "\n",
        "text: the text of the tweet (Lyx is cool)"
      ]
    },
    {
      "cell_type": "markdown",
      "metadata": {
        "id": "wfoKbm0ioHql",
        "colab_type": "text"
      },
      "source": [
        "### I'll begin by creating an IRA dataset of English-language, non-retweets"
      ]
    },
    {
      "cell_type": "code",
      "metadata": {
        "id": "qQJoz7h7lIaK",
        "colab_type": "code",
        "colab": {
          "base_uri": "https://localhost:8080/",
          "height": 34
        },
        "outputId": "d536290a-cde2-40a8-a9da-b4e6fcb1ab57"
      },
      "source": [
        "from google.colab import drive\n",
        "drive.mount('/content/drive')"
      ],
      "execution_count": 3,
      "outputs": [
        {
          "output_type": "stream",
          "text": [
            "Drive already mounted at /content/drive; to attempt to forcibly remount, call drive.mount(\"/content/drive\", force_remount=True).\n"
          ],
          "name": "stdout"
        }
      ]
    },
    {
      "cell_type": "code",
      "metadata": {
        "id": "BU_2wMQYoXvj",
        "colab_type": "code",
        "colab": {}
      },
      "source": [
        "import pandas as pd"
      ],
      "execution_count": 0,
      "outputs": []
    },
    {
      "cell_type": "markdown",
      "metadata": {
        "id": "wN7nG0eqob0t",
        "colab_type": "text"
      },
      "source": [
        "CSV 1"
      ]
    },
    {
      "cell_type": "code",
      "metadata": {
        "id": "HvVZH-ihobFS",
        "colab_type": "code",
        "colab": {
          "base_uri": "https://localhost:8080/",
          "height": 34
        },
        "outputId": "2e863022-5966-400d-8117-9da195032890"
      },
      "source": [
        "ira1 = pd.read_csv('/content/drive/My Drive/IRA/IRAhandle_tweets_1.csv')\n",
        "\n",
        "#Filter for English tweets\n",
        "ira1 = ira1[ira1['language'] == 'English']\n",
        "\n",
        "#Filter for non-retweets\n",
        "ira1 = ira1[ira1['retweet']==0]\n",
        "\n",
        "#Then exporting that as new CSVs in my drive\n",
        "ira1.to_csv('ira1_cleaned.csv')\n",
        "!cp ira1_cleaned.csv \"drive/My Drive/\"\n",
        "df.shape"
      ],
      "execution_count": 7,
      "outputs": [
        {
          "output_type": "execute_result",
          "data": {
            "text/plain": [
              "(196271, 15)"
            ]
          },
          "metadata": {
            "tags": []
          },
          "execution_count": 7
        }
      ]
    },
    {
      "cell_type": "markdown",
      "metadata": {
        "id": "a0FnHQSpo6R_",
        "colab_type": "text"
      },
      "source": [
        "CSV 2"
      ]
    },
    {
      "cell_type": "code",
      "metadata": {
        "id": "e7m6J8jAo40C",
        "colab_type": "code",
        "colab": {
          "base_uri": "https://localhost:8080/",
          "height": 34
        },
        "outputId": "d945dc59-15a0-4c2e-cb6c-4f7a3be4b877"
      },
      "source": [
        "df = pd.read_csv('/content/drive/My Drive/IRA/IRAhandle_tweets_2.csv')\n",
        "\n",
        "#Filter for English tweets\n",
        "df = df[df['language'] == 'English']\n",
        "\n",
        "#Filter for non-retweets\n",
        "df = df[df['retweet']==0]\n",
        "\n",
        "#Then exporting that as new CSVs in my drive\n",
        "df.to_csv('ira2_cleaned.csv')\n",
        "!cp ira2_cleaned.csv \"drive/My Drive/\"\n",
        "df.shape"
      ],
      "execution_count": 6,
      "outputs": [
        {
          "output_type": "execute_result",
          "data": {
            "text/plain": [
              "(196271, 15)"
            ]
          },
          "metadata": {
            "tags": []
          },
          "execution_count": 6
        }
      ]
    },
    {
      "cell_type": "markdown",
      "metadata": {
        "id": "PFT-KpLAqp2e",
        "colab_type": "text"
      },
      "source": [
        "CSV 3"
      ]
    },
    {
      "cell_type": "code",
      "metadata": {
        "id": "YcpTaCl3orsQ",
        "colab_type": "code",
        "colab": {
          "base_uri": "https://localhost:8080/",
          "height": 34
        },
        "outputId": "8151a307-f289-472a-8d12-e1a862ff9910"
      },
      "source": [
        "df = pd.read_csv('/content/drive/My Drive/IRA/IRAhandle_tweets_3.csv')\n",
        "\n",
        "#Filter for English tweets\n",
        "df = df[df['language'] == 'English']\n",
        "\n",
        "#Filter for non-retweets\n",
        "df = df[df['retweet']==0]\n",
        "\n",
        "#Then exporting that as new CSVs in my drive\n",
        "df.to_csv('ira3_cleaned.csv')\n",
        "!cp ira3_cleaned.csv \"drive/My Drive/\"\n",
        "df.shape"
      ],
      "execution_count": 8,
      "outputs": [
        {
          "output_type": "execute_result",
          "data": {
            "text/plain": [
              "(204900, 15)"
            ]
          },
          "metadata": {
            "tags": []
          },
          "execution_count": 8
        }
      ]
    },
    {
      "cell_type": "markdown",
      "metadata": {
        "id": "8H-d2ykDqw6H",
        "colab_type": "text"
      },
      "source": [
        "CSV 4"
      ]
    },
    {
      "cell_type": "code",
      "metadata": {
        "id": "p9RcYZbrqyLe",
        "colab_type": "code",
        "colab": {
          "base_uri": "https://localhost:8080/",
          "height": 34
        },
        "outputId": "19bd9819-d170-46dc-a600-c83bddedce55"
      },
      "source": [
        "df = pd.read_csv('/content/drive/My Drive/IRA/IRAhandle_tweets_4.csv')\n",
        "\n",
        "#Filter for English tweets\n",
        "df = df[df['language'] == 'English']\n",
        "\n",
        "#Filter for non-retweets\n",
        "df = df[df['retweet']==0]\n",
        "\n",
        "#Then exporting that as new CSVs in my drive\n",
        "df.to_csv('ira4_cleaned.csv')\n",
        "!cp ira4_cleaned.csv \"drive/My Drive/\"\n",
        "df.shape"
      ],
      "execution_count": 9,
      "outputs": [
        {
          "output_type": "execute_result",
          "data": {
            "text/plain": [
              "(113195, 15)"
            ]
          },
          "metadata": {
            "tags": []
          },
          "execution_count": 9
        }
      ]
    },
    {
      "cell_type": "markdown",
      "metadata": {
        "id": "2OHJkQ40q23n",
        "colab_type": "text"
      },
      "source": [
        "CSV 5"
      ]
    },
    {
      "cell_type": "code",
      "metadata": {
        "id": "TuNFD1_Eq2QB",
        "colab_type": "code",
        "colab": {
          "base_uri": "https://localhost:8080/",
          "height": 34
        },
        "outputId": "5e859b5d-a474-444f-9e46-98798cf42b31"
      },
      "source": [
        "df = pd.read_csv('/content/drive/My Drive/IRA/IRAhandle_tweets_5.csv')\n",
        "\n",
        "#Filter for English tweets\n",
        "df = df[df['language'] == 'English']\n",
        "\n",
        "#Filter for non-retweets\n",
        "df = df[df['retweet']==0]\n",
        "\n",
        "#Then exporting that as new CSVs in my drive\n",
        "df.to_csv('ira5_cleaned.csv')\n",
        "!cp ira5_cleaned.csv \"drive/My Drive/\"\n",
        "df.shape"
      ],
      "execution_count": 10,
      "outputs": [
        {
          "output_type": "execute_result",
          "data": {
            "text/plain": [
              "(75240, 15)"
            ]
          },
          "metadata": {
            "tags": []
          },
          "execution_count": 10
        }
      ]
    },
    {
      "cell_type": "markdown",
      "metadata": {
        "id": "zOBAnXynrRc3",
        "colab_type": "text"
      },
      "source": [
        "CSV 6"
      ]
    },
    {
      "cell_type": "code",
      "metadata": {
        "id": "uwyabfyArS4u",
        "colab_type": "code",
        "colab": {
          "base_uri": "https://localhost:8080/",
          "height": 34
        },
        "outputId": "44bec2a5-bf68-4def-c814-2f08e464c935"
      },
      "source": [
        "df = pd.read_csv('/content/drive/My Drive/IRA/IRAhandle_tweets_6.csv')\n",
        "\n",
        "#Filter for English tweets\n",
        "df = df[df['language'] == 'English']\n",
        "\n",
        "#Filter for non-retweets\n",
        "df = df[df['retweet']==0]\n",
        "\n",
        "#Then exporting that as new CSVs in my drive\n",
        "df.to_csv('ira6_cleaned.csv')\n",
        "!cp ira6_cleaned.csv \"drive/My Drive/\"\n",
        "df.shape"
      ],
      "execution_count": 11,
      "outputs": [
        {
          "output_type": "execute_result",
          "data": {
            "text/plain": [
              "(126287, 15)"
            ]
          },
          "metadata": {
            "tags": []
          },
          "execution_count": 11
        }
      ]
    },
    {
      "cell_type": "markdown",
      "metadata": {
        "id": "zHTmU1G2rV-Y",
        "colab_type": "text"
      },
      "source": [
        "CSV 7"
      ]
    },
    {
      "cell_type": "code",
      "metadata": {
        "id": "3qnOF-QqrX9A",
        "colab_type": "code",
        "colab": {
          "base_uri": "https://localhost:8080/",
          "height": 34
        },
        "outputId": "843329e8-b4bb-46b9-cf57-c2a774892c22"
      },
      "source": [
        "df = pd.read_csv('/content/drive/My Drive/IRA/IRAhandle_tweets_7.csv')\n",
        "\n",
        "#Filter for English tweets\n",
        "df = df[df['language'] == 'English']\n",
        "\n",
        "#Filter for non-retweets\n",
        "df = df[df['retweet']==0]\n",
        "\n",
        "#Then exporting that as new CSVs in my drive\n",
        "df.to_csv('ira7_cleaned.csv')\n",
        "!cp ira7_cleaned.csv \"drive/My Drive/\"\n",
        "df.shape"
      ],
      "execution_count": 12,
      "outputs": [
        {
          "output_type": "execute_result",
          "data": {
            "text/plain": [
              "(180503, 15)"
            ]
          },
          "metadata": {
            "tags": []
          },
          "execution_count": 12
        }
      ]
    },
    {
      "cell_type": "markdown",
      "metadata": {
        "id": "-eavKaDcrdiw",
        "colab_type": "text"
      },
      "source": [
        "CSV 8"
      ]
    },
    {
      "cell_type": "code",
      "metadata": {
        "id": "Rf0OCxNnrcsI",
        "colab_type": "code",
        "colab": {
          "base_uri": "https://localhost:8080/",
          "height": 34
        },
        "outputId": "f7b5697e-9918-43f5-c9c7-9d303d4fc1f8"
      },
      "source": [
        "df = pd.read_csv('/content/drive/My Drive/IRA/IRAhandle_tweets_8.csv')\n",
        "\n",
        "#Filter for English tweets\n",
        "df = df[df['language'] == 'English']\n",
        "\n",
        "#Filter for non-retweets\n",
        "df = df[df['retweet']==0]\n",
        "\n",
        "#Then exporting that as new CSVs in my drive\n",
        "df.to_csv('ira8_cleaned.csv')\n",
        "!cp ira8_cleaned.csv \"drive/My Drive/\"\n",
        "df.shape"
      ],
      "execution_count": 13,
      "outputs": [
        {
          "output_type": "execute_result",
          "data": {
            "text/plain": [
              "(219958, 15)"
            ]
          },
          "metadata": {
            "tags": []
          },
          "execution_count": 13
        }
      ]
    },
    {
      "cell_type": "markdown",
      "metadata": {
        "id": "rJPiUTHNriW3",
        "colab_type": "text"
      },
      "source": [
        "CSV 9"
      ]
    },
    {
      "cell_type": "code",
      "metadata": {
        "id": "k9uuRCDIrkuW",
        "colab_type": "code",
        "colab": {
          "base_uri": "https://localhost:8080/",
          "height": 34
        },
        "outputId": "7b88adbf-dcac-417d-ef50-081554735e55"
      },
      "source": [
        "df = pd.read_csv('/content/drive/My Drive/IRA/IRAhandle_tweets_9.csv')\n",
        "\n",
        "#Filter for English tweets\n",
        "df = df[df['language'] == 'English']\n",
        "\n",
        "#Filter for non-retweets\n",
        "df = df[df['retweet']==0]\n",
        "\n",
        "#Then exporting that as new CSVs in my drive\n",
        "df.to_csv('ira9_cleaned.csv')\n",
        "!cp ira9_cleaned.csv \"drive/My Drive/\"\n",
        "df.shape"
      ],
      "execution_count": 14,
      "outputs": [
        {
          "output_type": "execute_result",
          "data": {
            "text/plain": [
              "(2217, 15)"
            ]
          },
          "metadata": {
            "tags": []
          },
          "execution_count": 14
        }
      ]
    },
    {
      "cell_type": "code",
      "metadata": {
        "id": "uOb-amx9sGg6",
        "colab_type": "code",
        "colab": {
          "base_uri": "https://localhost:8080/",
          "height": 34
        },
        "outputId": "18d59669-f9a4-46c0-948a-79b97093fe02"
      },
      "source": [
        "#I created a larga file with all the cleaned IRA CSVs\n",
        "df1 = pd.read_csv('/content/drive/My Drive/ira1_cleaned.csv')\n",
        "df2 = pd.read_csv('/content/drive/My Drive/ira2_cleaned.csv')\n",
        "df3 = pd.read_csv('/content/drive/My Drive/ira3_cleaned.csv')\n",
        "df4 = pd.read_csv('/content/drive/My Drive/ira4_cleaned.csv')\n",
        "df5 = pd.read_csv('/content/drive/My Drive/ira5_cleaned.csv')\n",
        "df6 = pd.read_csv('/content/drive/My Drive/ira6_cleaned.csv')\n",
        "df7 = pd.read_csv('/content/drive/My Drive/ira7_cleaned.csv')\n",
        "df8 = pd.read_csv('/content/drive/My Drive/ira8_cleaned.csv')\n",
        "df9 = pd.read_csv('/content/drive/My Drive/ira9_cleaned.csv')\n",
        "ira_tweets = pd.concat([df1, df2, df3, df4, df5, df6, df7, df8, df9])\n",
        "\n",
        "ira_tweets.shape"
      ],
      "execution_count": 15,
      "outputs": [
        {
          "output_type": "execute_result",
          "data": {
            "text/plain": [
              "(1272848, 16)"
            ]
          },
          "metadata": {
            "tags": []
          },
          "execution_count": 15
        }
      ]
    },
    {
      "cell_type": "code",
      "metadata": {
        "id": "_AYJQ_P6sR_k",
        "colab_type": "code",
        "colab": {}
      },
      "source": [
        "#And exported the final as a new csv to my drive\n",
        "ira1.to_csv('ira_tweets_cleaned.csv')\n",
        "!cp ira_tweets_cleaned.csv \"drive/My Drive/\""
      ],
      "execution_count": 0,
      "outputs": []
    },
    {
      "cell_type": "code",
      "metadata": {
        "id": "LKO2V4J1sZIb",
        "colab_type": "code",
        "colab": {
          "base_uri": "https://localhost:8080/",
          "height": 297
        },
        "outputId": "39e8f8cc-c9f4-4c69-fddc-f8fb56d14a0d"
      },
      "source": [
        "df = ira_tweets\n",
        "df.describe()"
      ],
      "execution_count": 18,
      "outputs": [
        {
          "output_type": "execute_result",
          "data": {
            "text/html": [
              "<div>\n",
              "<style scoped>\n",
              "    .dataframe tbody tr th:only-of-type {\n",
              "        vertical-align: middle;\n",
              "    }\n",
              "\n",
              "    .dataframe tbody tr th {\n",
              "        vertical-align: top;\n",
              "    }\n",
              "\n",
              "    .dataframe thead th {\n",
              "        text-align: right;\n",
              "    }\n",
              "</style>\n",
              "<table border=\"1\" class=\"dataframe\">\n",
              "  <thead>\n",
              "    <tr style=\"text-align: right;\">\n",
              "      <th></th>\n",
              "      <th>Unnamed: 0</th>\n",
              "      <th>external_author_id</th>\n",
              "      <th>following</th>\n",
              "      <th>followers</th>\n",
              "      <th>updates</th>\n",
              "      <th>post_type</th>\n",
              "      <th>new_june_2018</th>\n",
              "      <th>retweet</th>\n",
              "    </tr>\n",
              "  </thead>\n",
              "  <tbody>\n",
              "    <tr>\n",
              "      <th>count</th>\n",
              "      <td>1.272848e+06</td>\n",
              "      <td>1.272848e+06</td>\n",
              "      <td>1.272848e+06</td>\n",
              "      <td>1.272848e+06</td>\n",
              "      <td>1.272848e+06</td>\n",
              "      <td>0.0</td>\n",
              "      <td>1.272848e+06</td>\n",
              "      <td>1272848.0</td>\n",
              "    </tr>\n",
              "    <tr>\n",
              "      <th>mean</th>\n",
              "      <td>2.034664e+05</td>\n",
              "      <td>1.977919e+17</td>\n",
              "      <td>5.778068e+03</td>\n",
              "      <td>1.026732e+04</td>\n",
              "      <td>1.301412e+04</td>\n",
              "      <td>NaN</td>\n",
              "      <td>1.482212e-01</td>\n",
              "      <td>0.0</td>\n",
              "    </tr>\n",
              "    <tr>\n",
              "      <th>std</th>\n",
              "      <td>1.089854e+05</td>\n",
              "      <td>3.656714e+17</td>\n",
              "      <td>7.113414e+03</td>\n",
              "      <td>1.336813e+04</td>\n",
              "      <td>1.516738e+04</td>\n",
              "      <td>NaN</td>\n",
              "      <td>3.553192e-01</td>\n",
              "      <td>0.0</td>\n",
              "    </tr>\n",
              "    <tr>\n",
              "      <th>min</th>\n",
              "      <td>0.000000e+00</td>\n",
              "      <td>3.497640e+07</td>\n",
              "      <td>0.000000e+00</td>\n",
              "      <td>0.000000e+00</td>\n",
              "      <td>1.000000e+00</td>\n",
              "      <td>NaN</td>\n",
              "      <td>0.000000e+00</td>\n",
              "      <td>0.0</td>\n",
              "    </tr>\n",
              "    <tr>\n",
              "      <th>25%</th>\n",
              "      <td>1.150650e+05</td>\n",
              "      <td>2.601236e+09</td>\n",
              "      <td>9.810000e+02</td>\n",
              "      <td>5.660000e+02</td>\n",
              "      <td>1.609000e+03</td>\n",
              "      <td>NaN</td>\n",
              "      <td>0.000000e+00</td>\n",
              "      <td>0.0</td>\n",
              "    </tr>\n",
              "    <tr>\n",
              "      <th>50%</th>\n",
              "      <td>2.065440e+05</td>\n",
              "      <td>2.944944e+09</td>\n",
              "      <td>4.583000e+03</td>\n",
              "      <td>4.899000e+03</td>\n",
              "      <td>7.834000e+03</td>\n",
              "      <td>NaN</td>\n",
              "      <td>0.000000e+00</td>\n",
              "      <td>0.0</td>\n",
              "    </tr>\n",
              "    <tr>\n",
              "      <th>75%</th>\n",
              "      <td>2.917790e+05</td>\n",
              "      <td>4.355797e+09</td>\n",
              "      <td>8.105000e+03</td>\n",
              "      <td>1.626800e+04</td>\n",
              "      <td>1.944800e+04</td>\n",
              "      <td>NaN</td>\n",
              "      <td>0.000000e+00</td>\n",
              "      <td>0.0</td>\n",
              "    </tr>\n",
              "    <tr>\n",
              "      <th>max</th>\n",
              "      <td>3.972310e+05</td>\n",
              "      <td>9.812510e+17</td>\n",
              "      <td>7.621000e+04</td>\n",
              "      <td>2.066860e+05</td>\n",
              "      <td>1.661040e+05</td>\n",
              "      <td>NaN</td>\n",
              "      <td>1.000000e+00</td>\n",
              "      <td>0.0</td>\n",
              "    </tr>\n",
              "  </tbody>\n",
              "</table>\n",
              "</div>"
            ],
            "text/plain": [
              "         Unnamed: 0  external_author_id  ...  new_june_2018    retweet\n",
              "count  1.272848e+06        1.272848e+06  ...   1.272848e+06  1272848.0\n",
              "mean   2.034664e+05        1.977919e+17  ...   1.482212e-01        0.0\n",
              "std    1.089854e+05        3.656714e+17  ...   3.553192e-01        0.0\n",
              "min    0.000000e+00        3.497640e+07  ...   0.000000e+00        0.0\n",
              "25%    1.150650e+05        2.601236e+09  ...   0.000000e+00        0.0\n",
              "50%    2.065440e+05        2.944944e+09  ...   0.000000e+00        0.0\n",
              "75%    2.917790e+05        4.355797e+09  ...   0.000000e+00        0.0\n",
              "max    3.972310e+05        9.812510e+17  ...   1.000000e+00        0.0\n",
              "\n",
              "[8 rows x 8 columns]"
            ]
          },
          "metadata": {
            "tags": []
          },
          "execution_count": 18
        }
      ]
    },
    {
      "cell_type": "code",
      "metadata": {
        "id": "u1X1y2x7sfTE",
        "colab_type": "code",
        "colab": {
          "base_uri": "https://localhost:8080/",
          "height": 173
        },
        "outputId": "1c9ea07e-2fde-451f-fa72-75edc9c330ba"
      },
      "source": [
        "df.describe(exclude='number')"
      ],
      "execution_count": 19,
      "outputs": [
        {
          "output_type": "execute_result",
          "data": {
            "text/html": [
              "<div>\n",
              "<style scoped>\n",
              "    .dataframe tbody tr th:only-of-type {\n",
              "        vertical-align: middle;\n",
              "    }\n",
              "\n",
              "    .dataframe tbody tr th {\n",
              "        vertical-align: top;\n",
              "    }\n",
              "\n",
              "    .dataframe thead th {\n",
              "        text-align: right;\n",
              "    }\n",
              "</style>\n",
              "<table border=\"1\" class=\"dataframe\">\n",
              "  <thead>\n",
              "    <tr style=\"text-align: right;\">\n",
              "      <th></th>\n",
              "      <th>author</th>\n",
              "      <th>content</th>\n",
              "      <th>region</th>\n",
              "      <th>language</th>\n",
              "      <th>publish_date</th>\n",
              "      <th>harvested_date</th>\n",
              "      <th>account_type</th>\n",
              "      <th>account_category</th>\n",
              "    </tr>\n",
              "  </thead>\n",
              "  <tbody>\n",
              "    <tr>\n",
              "      <th>count</th>\n",
              "      <td>1272848</td>\n",
              "      <td>1272847</td>\n",
              "      <td>1271703</td>\n",
              "      <td>1272848</td>\n",
              "      <td>1272848</td>\n",
              "      <td>1272848</td>\n",
              "      <td>1272502</td>\n",
              "      <td>1272848</td>\n",
              "    </tr>\n",
              "    <tr>\n",
              "      <th>unique</th>\n",
              "      <td>1576</td>\n",
              "      <td>1196978</td>\n",
              "      <td>29</td>\n",
              "      <td>1</td>\n",
              "      <td>608058</td>\n",
              "      <td>611368</td>\n",
              "      <td>17</td>\n",
              "      <td>8</td>\n",
              "    </tr>\n",
              "    <tr>\n",
              "      <th>top</th>\n",
              "      <td>EXQUOTE</td>\n",
              "      <td>NewsOne Now Audio Podcast: Bishop E.W. Jackson...</td>\n",
              "      <td>United States</td>\n",
              "      <td>English</td>\n",
              "      <td>8/16/2017 1:29</td>\n",
              "      <td>8/16/2017 1:32</td>\n",
              "      <td>local</td>\n",
              "      <td>NewsFeed</td>\n",
              "    </tr>\n",
              "    <tr>\n",
              "      <th>freq</th>\n",
              "      <td>53565</td>\n",
              "      <td>217</td>\n",
              "      <td>1027094</td>\n",
              "      <td>1272848</td>\n",
              "      <td>196</td>\n",
              "      <td>216</td>\n",
              "      <td>458477</td>\n",
              "      <td>596624</td>\n",
              "    </tr>\n",
              "  </tbody>\n",
              "</table>\n",
              "</div>"
            ],
            "text/plain": [
              "         author  ... account_category\n",
              "count   1272848  ...          1272848\n",
              "unique     1576  ...                8\n",
              "top     EXQUOTE  ...         NewsFeed\n",
              "freq      53565  ...           596624\n",
              "\n",
              "[4 rows x 8 columns]"
            ]
          },
          "metadata": {
            "tags": []
          },
          "execution_count": 19
        }
      ]
    },
    {
      "cell_type": "code",
      "metadata": {
        "id": "ggYdYZTIujED",
        "colab_type": "code",
        "colab": {
          "base_uri": "https://localhost:8080/",
          "height": 34
        },
        "outputId": "9842ad81-04ea-4271-9901-d6daaa658ca2"
      },
      "source": [
        "test = df[df['new_june_2018']==1]\n",
        "test.shape"
      ],
      "execution_count": 24,
      "outputs": [
        {
          "output_type": "execute_result",
          "data": {
            "text/plain": [
              "(188663, 16)"
            ]
          },
          "metadata": {
            "tags": []
          },
          "execution_count": 24
        }
      ]
    },
    {
      "cell_type": "code",
      "metadata": {
        "id": "54ytHgdTu1kW",
        "colab_type": "code",
        "colab": {}
      },
      "source": [
        "#And exported the final as a new csv to my drive\n",
        "test.to_csv('test_ira.csv')\n",
        "!cp test_ira.csv \"drive/My Drive/\""
      ],
      "execution_count": 0,
      "outputs": []
    },
    {
      "cell_type": "code",
      "metadata": {
        "id": "bJaotNnCyq_v",
        "colab_type": "code",
        "colab": {
          "base_uri": "https://localhost:8080/",
          "height": 34
        },
        "outputId": "03f7c220-95c6-4c0d-8432-790cfd04fc5a"
      },
      "source": [
        "#I've made 15% test data and 85% training data.\n",
        "188663/1272848"
      ],
      "execution_count": 38,
      "outputs": [
        {
          "output_type": "execute_result",
          "data": {
            "text/plain": [
              "0.14822115445049214"
            ]
          },
          "metadata": {
            "tags": []
          },
          "execution_count": 38
        }
      ]
    },
    {
      "cell_type": "code",
      "metadata": {
        "id": "hXMevi3ktnPx",
        "colab_type": "code",
        "colab": {
          "base_uri": "https://localhost:8080/",
          "height": 34
        },
        "outputId": "37faa502-1936-4b59-f22a-0b82d3350df2"
      },
      "source": [
        "train = df[df['new_june_2018']==0]\n",
        "train.shape"
      ],
      "execution_count": 25,
      "outputs": [
        {
          "output_type": "execute_result",
          "data": {
            "text/plain": [
              "(1084185, 16)"
            ]
          },
          "metadata": {
            "tags": []
          },
          "execution_count": 25
        }
      ]
    },
    {
      "cell_type": "code",
      "metadata": {
        "id": "fw-Hhwkbu99I",
        "colab_type": "code",
        "colab": {}
      },
      "source": [
        "#And exported the final as a new csv to my drive\n",
        "train.to_csv('train_ira.csv')\n",
        "!cp train_ira.csv \"drive/My Drive/\""
      ],
      "execution_count": 0,
      "outputs": []
    },
    {
      "cell_type": "markdown",
      "metadata": {
        "id": "I9EivF14vkcU",
        "colab_type": "text"
      },
      "source": [
        "# Bringing in the non-IRA tweets"
      ]
    },
    {
      "cell_type": "code",
      "metadata": {
        "id": "Tig9DJREvm1N",
        "colab_type": "code",
        "colab": {}
      },
      "source": [
        "df = pd.read_csv('/content/drive/My Drive/Disinfo Data/non_ira_tweets.csv', encoding='latin-1', \n",
        "                 names=['target', 'ids', 'date', 'flag', 'user', 'text'])"
      ],
      "execution_count": 0,
      "outputs": []
    },
    {
      "cell_type": "code",
      "metadata": {
        "id": "UCTn37ckyS_8",
        "colab_type": "code",
        "colab": {
          "base_uri": "https://localhost:8080/",
          "height": 34
        },
        "outputId": "9406400a-e61b-4ed9-bd53-2e0a3fef8f3b"
      },
      "source": [
        "df.shape"
      ],
      "execution_count": 37,
      "outputs": [
        {
          "output_type": "execute_result",
          "data": {
            "text/plain": [
              "(1600000, 6)"
            ]
          },
          "metadata": {
            "tags": []
          },
          "execution_count": 37
        }
      ]
    },
    {
      "cell_type": "code",
      "metadata": {
        "id": "BIm0Q9bOyUD5",
        "colab_type": "code",
        "colab": {}
      },
      "source": [
        "from sklearn.model_selection import train_test_split\n",
        "non_ira_train, non_ira_test = train_test_split(df, test_size=0.15, random_state=42)"
      ],
      "execution_count": 0,
      "outputs": []
    },
    {
      "cell_type": "code",
      "metadata": {
        "id": "FH6EH5F1zZM8",
        "colab_type": "code",
        "colab": {
          "base_uri": "https://localhost:8080/",
          "height": 34
        },
        "outputId": "38d92d29-c521-49ca-edcc-7b9191578da9"
      },
      "source": [
        "#And exported the final as a new csv to my drive\n",
        "non_ira_train.to_csv('non_ira_train.csv')\n",
        "!cp non_ira_train.csv \"drive/My Drive/\"\n",
        "non_ira_train.shape"
      ],
      "execution_count": 43,
      "outputs": [
        {
          "output_type": "execute_result",
          "data": {
            "text/plain": [
              "(1360000, 6)"
            ]
          },
          "metadata": {
            "tags": []
          },
          "execution_count": 43
        }
      ]
    },
    {
      "cell_type": "code",
      "metadata": {
        "id": "-7v7FSQQzZfs",
        "colab_type": "code",
        "colab": {
          "base_uri": "https://localhost:8080/",
          "height": 34
        },
        "outputId": "8dfdb67b-91e7-4b81-cc99-dd93eef14c71"
      },
      "source": [
        "non_ira_test.to_csv('non_ira_test.csv')\n",
        "!cp non_ira_test.csv \"drive/My Drive/\"\n",
        "non_ira_test.shape"
      ],
      "execution_count": 44,
      "outputs": [
        {
          "output_type": "execute_result",
          "data": {
            "text/plain": [
              "(240000, 6)"
            ]
          },
          "metadata": {
            "tags": []
          },
          "execution_count": 44
        }
      ]
    },
    {
      "cell_type": "markdown",
      "metadata": {
        "id": "tFa3X2-vz90Y",
        "colab_type": "text"
      },
      "source": [
        "#Creating my final dataframes for train"
      ]
    },
    {
      "cell_type": "code",
      "metadata": {
        "id": "c5_eziusz83K",
        "colab_type": "code",
        "colab": {
          "base_uri": "https://localhost:8080/",
          "height": 419
        },
        "outputId": "cec54052-7709-4bea-ad6e-8f8aa28f3640"
      },
      "source": [
        "train1 = pd.DataFrame(train['content'])\n",
        "train1"
      ],
      "execution_count": 64,
      "outputs": [
        {
          "output_type": "execute_result",
          "data": {
            "text/html": [
              "<div>\n",
              "<style scoped>\n",
              "    .dataframe tbody tr th:only-of-type {\n",
              "        vertical-align: middle;\n",
              "    }\n",
              "\n",
              "    .dataframe tbody tr th {\n",
              "        vertical-align: top;\n",
              "    }\n",
              "\n",
              "    .dataframe thead th {\n",
              "        text-align: right;\n",
              "    }\n",
              "</style>\n",
              "<table border=\"1\" class=\"dataframe\">\n",
              "  <thead>\n",
              "    <tr style=\"text-align: right;\">\n",
              "      <th></th>\n",
              "      <th>content</th>\n",
              "    </tr>\n",
              "  </thead>\n",
              "  <tbody>\n",
              "    <tr>\n",
              "      <th>0</th>\n",
              "      <td>\"We have a sitting Democrat US Senator on tria...</td>\n",
              "    </tr>\n",
              "    <tr>\n",
              "      <th>1</th>\n",
              "      <td>Marshawn Lynch arrives to game in anti-Trump s...</td>\n",
              "    </tr>\n",
              "    <tr>\n",
              "      <th>2</th>\n",
              "      <td>JUST IN: President Trump dedicates Presidents ...</td>\n",
              "    </tr>\n",
              "    <tr>\n",
              "      <th>3</th>\n",
              "      <td>Dan Bongino: \"Nobody trolls liberals better th...</td>\n",
              "    </tr>\n",
              "    <tr>\n",
              "      <th>4</th>\n",
              "      <td>'@SenatorMenendez @CarmenYulinCruz Doesn't mat...</td>\n",
              "    </tr>\n",
              "    <tr>\n",
              "      <th>...</th>\n",
              "      <td>...</td>\n",
              "    </tr>\n",
              "    <tr>\n",
              "      <th>2213</th>\n",
              "      <td>.the main thing is to was love https://t.co/oq...</td>\n",
              "    </tr>\n",
              "    <tr>\n",
              "      <th>2214</th>\n",
              "      <td>Amazing! Found my script: Download ReBuild - W...</td>\n",
              "    </tr>\n",
              "    <tr>\n",
              "      <th>2215</th>\n",
              "      <td>Present Perfect http://t.co/vNu3i2Xh4M</td>\n",
              "    </tr>\n",
              "    <tr>\n",
              "      <th>2216</th>\n",
              "      <td>GoPro SummerStory http://t.co/2afDrn7jWh</td>\n",
              "    </tr>\n",
              "    <tr>\n",
              "      <th>label</th>\n",
              "      <td>0\n",
              "0        1\n",
              "1        1\n",
              "2        1\n",
              "3 ...</td>\n",
              "    </tr>\n",
              "  </tbody>\n",
              "</table>\n",
              "<p>1084186 rows × 1 columns</p>\n",
              "</div>"
            ],
            "text/plain": [
              "                                                 content\n",
              "0      \"We have a sitting Democrat US Senator on tria...\n",
              "1      Marshawn Lynch arrives to game in anti-Trump s...\n",
              "2      JUST IN: President Trump dedicates Presidents ...\n",
              "3      Dan Bongino: \"Nobody trolls liberals better th...\n",
              "4      '@SenatorMenendez @CarmenYulinCruz Doesn't mat...\n",
              "...                                                  ...\n",
              "2213   .the main thing is to was love https://t.co/oq...\n",
              "2214   Amazing! Found my script: Download ReBuild - W...\n",
              "2215              Present Perfect http://t.co/vNu3i2Xh4M\n",
              "2216            GoPro SummerStory http://t.co/2afDrn7jWh\n",
              "label           0\n",
              "0        1\n",
              "1        1\n",
              "2        1\n",
              "3 ...\n",
              "\n",
              "[1084186 rows x 1 columns]"
            ]
          },
          "metadata": {
            "tags": []
          },
          "execution_count": 64
        }
      ]
    },
    {
      "cell_type": "code",
      "metadata": {
        "id": "1hKnI3VezdT7",
        "colab_type": "code",
        "colab": {
          "base_uri": "https://localhost:8080/",
          "height": 419
        },
        "outputId": "261c10b5-2b7a-49d5-b6c9-0accd3fcf911"
      },
      "source": [
        "train1['label'] = [1] * len(train1)\n",
        "train1"
      ],
      "execution_count": 66,
      "outputs": [
        {
          "output_type": "execute_result",
          "data": {
            "text/html": [
              "<div>\n",
              "<style scoped>\n",
              "    .dataframe tbody tr th:only-of-type {\n",
              "        vertical-align: middle;\n",
              "    }\n",
              "\n",
              "    .dataframe tbody tr th {\n",
              "        vertical-align: top;\n",
              "    }\n",
              "\n",
              "    .dataframe thead th {\n",
              "        text-align: right;\n",
              "    }\n",
              "</style>\n",
              "<table border=\"1\" class=\"dataframe\">\n",
              "  <thead>\n",
              "    <tr style=\"text-align: right;\">\n",
              "      <th></th>\n",
              "      <th>content</th>\n",
              "      <th>label</th>\n",
              "    </tr>\n",
              "  </thead>\n",
              "  <tbody>\n",
              "    <tr>\n",
              "      <th>0</th>\n",
              "      <td>\"We have a sitting Democrat US Senator on tria...</td>\n",
              "      <td>1</td>\n",
              "    </tr>\n",
              "    <tr>\n",
              "      <th>1</th>\n",
              "      <td>Marshawn Lynch arrives to game in anti-Trump s...</td>\n",
              "      <td>1</td>\n",
              "    </tr>\n",
              "    <tr>\n",
              "      <th>2</th>\n",
              "      <td>JUST IN: President Trump dedicates Presidents ...</td>\n",
              "      <td>1</td>\n",
              "    </tr>\n",
              "    <tr>\n",
              "      <th>3</th>\n",
              "      <td>Dan Bongino: \"Nobody trolls liberals better th...</td>\n",
              "      <td>1</td>\n",
              "    </tr>\n",
              "    <tr>\n",
              "      <th>4</th>\n",
              "      <td>'@SenatorMenendez @CarmenYulinCruz Doesn't mat...</td>\n",
              "      <td>1</td>\n",
              "    </tr>\n",
              "    <tr>\n",
              "      <th>...</th>\n",
              "      <td>...</td>\n",
              "      <td>...</td>\n",
              "    </tr>\n",
              "    <tr>\n",
              "      <th>2213</th>\n",
              "      <td>.the main thing is to was love https://t.co/oq...</td>\n",
              "      <td>1</td>\n",
              "    </tr>\n",
              "    <tr>\n",
              "      <th>2214</th>\n",
              "      <td>Amazing! Found my script: Download ReBuild - W...</td>\n",
              "      <td>1</td>\n",
              "    </tr>\n",
              "    <tr>\n",
              "      <th>2215</th>\n",
              "      <td>Present Perfect http://t.co/vNu3i2Xh4M</td>\n",
              "      <td>1</td>\n",
              "    </tr>\n",
              "    <tr>\n",
              "      <th>2216</th>\n",
              "      <td>GoPro SummerStory http://t.co/2afDrn7jWh</td>\n",
              "      <td>1</td>\n",
              "    </tr>\n",
              "    <tr>\n",
              "      <th>label</th>\n",
              "      <td>0\n",
              "0        1\n",
              "1        1\n",
              "2        1\n",
              "3 ...</td>\n",
              "      <td>1</td>\n",
              "    </tr>\n",
              "  </tbody>\n",
              "</table>\n",
              "<p>1084186 rows × 2 columns</p>\n",
              "</div>"
            ],
            "text/plain": [
              "                                                 content  label\n",
              "0      \"We have a sitting Democrat US Senator on tria...      1\n",
              "1      Marshawn Lynch arrives to game in anti-Trump s...      1\n",
              "2      JUST IN: President Trump dedicates Presidents ...      1\n",
              "3      Dan Bongino: \"Nobody trolls liberals better th...      1\n",
              "4      '@SenatorMenendez @CarmenYulinCruz Doesn't mat...      1\n",
              "...                                                  ...    ...\n",
              "2213   .the main thing is to was love https://t.co/oq...      1\n",
              "2214   Amazing! Found my script: Download ReBuild - W...      1\n",
              "2215              Present Perfect http://t.co/vNu3i2Xh4M      1\n",
              "2216            GoPro SummerStory http://t.co/2afDrn7jWh      1\n",
              "label           0\n",
              "0        1\n",
              "1        1\n",
              "2        1\n",
              "3 ...      1\n",
              "\n",
              "[1084186 rows x 2 columns]"
            ]
          },
          "metadata": {
            "tags": []
          },
          "execution_count": 66
        }
      ]
    },
    {
      "cell_type": "code",
      "metadata": {
        "id": "r-Q5EpN81SaH",
        "colab_type": "code",
        "colab": {
          "base_uri": "https://localhost:8080/",
          "height": 419
        },
        "outputId": "1ec83754-790f-41bc-f3d9-291658703c96"
      },
      "source": [
        "train1.drop(train1.tail(1).index,inplace=True)\n",
        "train1"
      ],
      "execution_count": 67,
      "outputs": [
        {
          "output_type": "execute_result",
          "data": {
            "text/html": [
              "<div>\n",
              "<style scoped>\n",
              "    .dataframe tbody tr th:only-of-type {\n",
              "        vertical-align: middle;\n",
              "    }\n",
              "\n",
              "    .dataframe tbody tr th {\n",
              "        vertical-align: top;\n",
              "    }\n",
              "\n",
              "    .dataframe thead th {\n",
              "        text-align: right;\n",
              "    }\n",
              "</style>\n",
              "<table border=\"1\" class=\"dataframe\">\n",
              "  <thead>\n",
              "    <tr style=\"text-align: right;\">\n",
              "      <th></th>\n",
              "      <th>content</th>\n",
              "      <th>label</th>\n",
              "    </tr>\n",
              "  </thead>\n",
              "  <tbody>\n",
              "    <tr>\n",
              "      <th>0</th>\n",
              "      <td>\"We have a sitting Democrat US Senator on tria...</td>\n",
              "      <td>1</td>\n",
              "    </tr>\n",
              "    <tr>\n",
              "      <th>1</th>\n",
              "      <td>Marshawn Lynch arrives to game in anti-Trump s...</td>\n",
              "      <td>1</td>\n",
              "    </tr>\n",
              "    <tr>\n",
              "      <th>2</th>\n",
              "      <td>JUST IN: President Trump dedicates Presidents ...</td>\n",
              "      <td>1</td>\n",
              "    </tr>\n",
              "    <tr>\n",
              "      <th>3</th>\n",
              "      <td>Dan Bongino: \"Nobody trolls liberals better th...</td>\n",
              "      <td>1</td>\n",
              "    </tr>\n",
              "    <tr>\n",
              "      <th>4</th>\n",
              "      <td>'@SenatorMenendez @CarmenYulinCruz Doesn't mat...</td>\n",
              "      <td>1</td>\n",
              "    </tr>\n",
              "    <tr>\n",
              "      <th>...</th>\n",
              "      <td>...</td>\n",
              "      <td>...</td>\n",
              "    </tr>\n",
              "    <tr>\n",
              "      <th>2212</th>\n",
              "      <td>Like me. Share me. Follow me http://t.co/VvhUO...</td>\n",
              "      <td>1</td>\n",
              "    </tr>\n",
              "    <tr>\n",
              "      <th>2213</th>\n",
              "      <td>.the main thing is to was love https://t.co/oq...</td>\n",
              "      <td>1</td>\n",
              "    </tr>\n",
              "    <tr>\n",
              "      <th>2214</th>\n",
              "      <td>Amazing! Found my script: Download ReBuild - W...</td>\n",
              "      <td>1</td>\n",
              "    </tr>\n",
              "    <tr>\n",
              "      <th>2215</th>\n",
              "      <td>Present Perfect http://t.co/vNu3i2Xh4M</td>\n",
              "      <td>1</td>\n",
              "    </tr>\n",
              "    <tr>\n",
              "      <th>2216</th>\n",
              "      <td>GoPro SummerStory http://t.co/2afDrn7jWh</td>\n",
              "      <td>1</td>\n",
              "    </tr>\n",
              "  </tbody>\n",
              "</table>\n",
              "<p>1084185 rows × 2 columns</p>\n",
              "</div>"
            ],
            "text/plain": [
              "                                                content  label\n",
              "0     \"We have a sitting Democrat US Senator on tria...      1\n",
              "1     Marshawn Lynch arrives to game in anti-Trump s...      1\n",
              "2     JUST IN: President Trump dedicates Presidents ...      1\n",
              "3     Dan Bongino: \"Nobody trolls liberals better th...      1\n",
              "4     '@SenatorMenendez @CarmenYulinCruz Doesn't mat...      1\n",
              "...                                                 ...    ...\n",
              "2212  Like me. Share me. Follow me http://t.co/VvhUO...      1\n",
              "2213  .the main thing is to was love https://t.co/oq...      1\n",
              "2214  Amazing! Found my script: Download ReBuild - W...      1\n",
              "2215             Present Perfect http://t.co/vNu3i2Xh4M      1\n",
              "2216           GoPro SummerStory http://t.co/2afDrn7jWh      1\n",
              "\n",
              "[1084185 rows x 2 columns]"
            ]
          },
          "metadata": {
            "tags": []
          },
          "execution_count": 67
        }
      ]
    },
    {
      "cell_type": "code",
      "metadata": {
        "id": "8wR9WL1B3MV1",
        "colab_type": "code",
        "colab": {
          "base_uri": "https://localhost:8080/",
          "height": 419
        },
        "outputId": "a67037a4-bc18-4bbd-d3b0-14e5d404ad7c"
      },
      "source": [
        "train2 = pd.DataFrame(non_ira_train['text'])\n",
        "train2 = train2.rename(columns = {\"text\":\"content\"}) \n",
        "train2"
      ],
      "execution_count": 71,
      "outputs": [
        {
          "output_type": "execute_result",
          "data": {
            "text/html": [
              "<div>\n",
              "<style scoped>\n",
              "    .dataframe tbody tr th:only-of-type {\n",
              "        vertical-align: middle;\n",
              "    }\n",
              "\n",
              "    .dataframe tbody tr th {\n",
              "        vertical-align: top;\n",
              "    }\n",
              "\n",
              "    .dataframe thead th {\n",
              "        text-align: right;\n",
              "    }\n",
              "</style>\n",
              "<table border=\"1\" class=\"dataframe\">\n",
              "  <thead>\n",
              "    <tr style=\"text-align: right;\">\n",
              "      <th></th>\n",
              "      <th>content</th>\n",
              "    </tr>\n",
              "  </thead>\n",
              "  <tbody>\n",
              "    <tr>\n",
              "      <th>159064</th>\n",
              "      <td>just finished work, off to shops for groceries...</td>\n",
              "    </tr>\n",
              "    <tr>\n",
              "      <th>885228</th>\n",
              "      <td>@icewulf You're right!  It is the responsible ...</td>\n",
              "    </tr>\n",
              "    <tr>\n",
              "      <th>241081</th>\n",
              "      <td>Drinking coffee at Crow's Nest w @oneofthemism...</td>\n",
              "    </tr>\n",
              "    <tr>\n",
              "      <th>982255</th>\n",
              "      <td>@tommcfly You're welcome ; ) It's awesome</td>\n",
              "    </tr>\n",
              "    <tr>\n",
              "      <th>1374551</th>\n",
              "      <td>@bgrundy btw watching in hd mode on a large-is...</td>\n",
              "    </tr>\n",
              "    <tr>\n",
              "      <th>...</th>\n",
              "      <td>...</td>\n",
              "    </tr>\n",
              "    <tr>\n",
              "      <th>259178</th>\n",
              "      <td>this song's middle change just doesn't want to...</td>\n",
              "    </tr>\n",
              "    <tr>\n",
              "      <th>1414414</th>\n",
              "      <td>@officialnjonas Good luck with that</td>\n",
              "    </tr>\n",
              "    <tr>\n",
              "      <th>131932</th>\n",
              "      <td>@ProudGamerTweet I rather average 32370</td>\n",
              "    </tr>\n",
              "    <tr>\n",
              "      <th>671155</th>\n",
              "      <td>Pickin up @misstinayao waitin on @sadittysash ...</td>\n",
              "    </tr>\n",
              "    <tr>\n",
              "      <th>121958</th>\n",
              "      <td>@ home studying for maths wooot ! im so going ...</td>\n",
              "    </tr>\n",
              "  </tbody>\n",
              "</table>\n",
              "<p>1360000 rows × 1 columns</p>\n",
              "</div>"
            ],
            "text/plain": [
              "                                                   content\n",
              "159064   just finished work, off to shops for groceries...\n",
              "885228   @icewulf You're right!  It is the responsible ...\n",
              "241081   Drinking coffee at Crow's Nest w @oneofthemism...\n",
              "982255          @tommcfly You're welcome ; ) It's awesome \n",
              "1374551  @bgrundy btw watching in hd mode on a large-is...\n",
              "...                                                    ...\n",
              "259178   this song's middle change just doesn't want to...\n",
              "1414414               @officialnjonas Good luck with that \n",
              "131932            @ProudGamerTweet I rather average 32370 \n",
              "671155   Pickin up @misstinayao waitin on @sadittysash ...\n",
              "121958   @ home studying for maths wooot ! im so going ...\n",
              "\n",
              "[1360000 rows x 1 columns]"
            ]
          },
          "metadata": {
            "tags": []
          },
          "execution_count": 71
        }
      ]
    },
    {
      "cell_type": "code",
      "metadata": {
        "id": "zdvGHKf73UrH",
        "colab_type": "code",
        "colab": {
          "base_uri": "https://localhost:8080/",
          "height": 419
        },
        "outputId": "7d55fabd-f2c5-4157-8b1f-dc9f149d97d6"
      },
      "source": [
        "train2['label'] = [0] * len(train2)\n",
        "train2"
      ],
      "execution_count": 72,
      "outputs": [
        {
          "output_type": "execute_result",
          "data": {
            "text/html": [
              "<div>\n",
              "<style scoped>\n",
              "    .dataframe tbody tr th:only-of-type {\n",
              "        vertical-align: middle;\n",
              "    }\n",
              "\n",
              "    .dataframe tbody tr th {\n",
              "        vertical-align: top;\n",
              "    }\n",
              "\n",
              "    .dataframe thead th {\n",
              "        text-align: right;\n",
              "    }\n",
              "</style>\n",
              "<table border=\"1\" class=\"dataframe\">\n",
              "  <thead>\n",
              "    <tr style=\"text-align: right;\">\n",
              "      <th></th>\n",
              "      <th>content</th>\n",
              "      <th>label</th>\n",
              "    </tr>\n",
              "  </thead>\n",
              "  <tbody>\n",
              "    <tr>\n",
              "      <th>159064</th>\n",
              "      <td>just finished work, off to shops for groceries...</td>\n",
              "      <td>0</td>\n",
              "    </tr>\n",
              "    <tr>\n",
              "      <th>885228</th>\n",
              "      <td>@icewulf You're right!  It is the responsible ...</td>\n",
              "      <td>0</td>\n",
              "    </tr>\n",
              "    <tr>\n",
              "      <th>241081</th>\n",
              "      <td>Drinking coffee at Crow's Nest w @oneofthemism...</td>\n",
              "      <td>0</td>\n",
              "    </tr>\n",
              "    <tr>\n",
              "      <th>982255</th>\n",
              "      <td>@tommcfly You're welcome ; ) It's awesome</td>\n",
              "      <td>0</td>\n",
              "    </tr>\n",
              "    <tr>\n",
              "      <th>1374551</th>\n",
              "      <td>@bgrundy btw watching in hd mode on a large-is...</td>\n",
              "      <td>0</td>\n",
              "    </tr>\n",
              "    <tr>\n",
              "      <th>...</th>\n",
              "      <td>...</td>\n",
              "      <td>...</td>\n",
              "    </tr>\n",
              "    <tr>\n",
              "      <th>259178</th>\n",
              "      <td>this song's middle change just doesn't want to...</td>\n",
              "      <td>0</td>\n",
              "    </tr>\n",
              "    <tr>\n",
              "      <th>1414414</th>\n",
              "      <td>@officialnjonas Good luck with that</td>\n",
              "      <td>0</td>\n",
              "    </tr>\n",
              "    <tr>\n",
              "      <th>131932</th>\n",
              "      <td>@ProudGamerTweet I rather average 32370</td>\n",
              "      <td>0</td>\n",
              "    </tr>\n",
              "    <tr>\n",
              "      <th>671155</th>\n",
              "      <td>Pickin up @misstinayao waitin on @sadittysash ...</td>\n",
              "      <td>0</td>\n",
              "    </tr>\n",
              "    <tr>\n",
              "      <th>121958</th>\n",
              "      <td>@ home studying for maths wooot ! im so going ...</td>\n",
              "      <td>0</td>\n",
              "    </tr>\n",
              "  </tbody>\n",
              "</table>\n",
              "<p>1360000 rows × 2 columns</p>\n",
              "</div>"
            ],
            "text/plain": [
              "                                                   content  label\n",
              "159064   just finished work, off to shops for groceries...      0\n",
              "885228   @icewulf You're right!  It is the responsible ...      0\n",
              "241081   Drinking coffee at Crow's Nest w @oneofthemism...      0\n",
              "982255          @tommcfly You're welcome ; ) It's awesome       0\n",
              "1374551  @bgrundy btw watching in hd mode on a large-is...      0\n",
              "...                                                    ...    ...\n",
              "259178   this song's middle change just doesn't want to...      0\n",
              "1414414               @officialnjonas Good luck with that       0\n",
              "131932            @ProudGamerTweet I rather average 32370       0\n",
              "671155   Pickin up @misstinayao waitin on @sadittysash ...      0\n",
              "121958   @ home studying for maths wooot ! im so going ...      0\n",
              "\n",
              "[1360000 rows x 2 columns]"
            ]
          },
          "metadata": {
            "tags": []
          },
          "execution_count": 72
        }
      ]
    },
    {
      "cell_type": "code",
      "metadata": {
        "id": "Wsy-c5ND4VEK",
        "colab_type": "code",
        "colab": {
          "base_uri": "https://localhost:8080/",
          "height": 34
        },
        "outputId": "100e75d1-319b-4ff1-bbf3-7c7031eaa7d4"
      },
      "source": [
        "train_df = pd.concat([train1, train2])\n",
        "train_df.shape"
      ],
      "execution_count": 75,
      "outputs": [
        {
          "output_type": "execute_result",
          "data": {
            "text/plain": [
              "(2444185, 2)"
            ]
          },
          "metadata": {
            "tags": []
          },
          "execution_count": 75
        }
      ]
    },
    {
      "cell_type": "code",
      "metadata": {
        "id": "7HDLnWJQ4w9y",
        "colab_type": "code",
        "colab": {
          "base_uri": "https://localhost:8080/",
          "height": 419
        },
        "outputId": "52887f0f-b85d-4439-a1be-b9c686ca52cb"
      },
      "source": [
        "train_df"
      ],
      "execution_count": 76,
      "outputs": [
        {
          "output_type": "execute_result",
          "data": {
            "text/html": [
              "<div>\n",
              "<style scoped>\n",
              "    .dataframe tbody tr th:only-of-type {\n",
              "        vertical-align: middle;\n",
              "    }\n",
              "\n",
              "    .dataframe tbody tr th {\n",
              "        vertical-align: top;\n",
              "    }\n",
              "\n",
              "    .dataframe thead th {\n",
              "        text-align: right;\n",
              "    }\n",
              "</style>\n",
              "<table border=\"1\" class=\"dataframe\">\n",
              "  <thead>\n",
              "    <tr style=\"text-align: right;\">\n",
              "      <th></th>\n",
              "      <th>content</th>\n",
              "      <th>label</th>\n",
              "    </tr>\n",
              "  </thead>\n",
              "  <tbody>\n",
              "    <tr>\n",
              "      <th>0</th>\n",
              "      <td>\"We have a sitting Democrat US Senator on tria...</td>\n",
              "      <td>1</td>\n",
              "    </tr>\n",
              "    <tr>\n",
              "      <th>1</th>\n",
              "      <td>Marshawn Lynch arrives to game in anti-Trump s...</td>\n",
              "      <td>1</td>\n",
              "    </tr>\n",
              "    <tr>\n",
              "      <th>2</th>\n",
              "      <td>JUST IN: President Trump dedicates Presidents ...</td>\n",
              "      <td>1</td>\n",
              "    </tr>\n",
              "    <tr>\n",
              "      <th>3</th>\n",
              "      <td>Dan Bongino: \"Nobody trolls liberals better th...</td>\n",
              "      <td>1</td>\n",
              "    </tr>\n",
              "    <tr>\n",
              "      <th>4</th>\n",
              "      <td>'@SenatorMenendez @CarmenYulinCruz Doesn't mat...</td>\n",
              "      <td>1</td>\n",
              "    </tr>\n",
              "    <tr>\n",
              "      <th>...</th>\n",
              "      <td>...</td>\n",
              "      <td>...</td>\n",
              "    </tr>\n",
              "    <tr>\n",
              "      <th>259178</th>\n",
              "      <td>this song's middle change just doesn't want to...</td>\n",
              "      <td>0</td>\n",
              "    </tr>\n",
              "    <tr>\n",
              "      <th>1414414</th>\n",
              "      <td>@officialnjonas Good luck with that</td>\n",
              "      <td>0</td>\n",
              "    </tr>\n",
              "    <tr>\n",
              "      <th>131932</th>\n",
              "      <td>@ProudGamerTweet I rather average 32370</td>\n",
              "      <td>0</td>\n",
              "    </tr>\n",
              "    <tr>\n",
              "      <th>671155</th>\n",
              "      <td>Pickin up @misstinayao waitin on @sadittysash ...</td>\n",
              "      <td>0</td>\n",
              "    </tr>\n",
              "    <tr>\n",
              "      <th>121958</th>\n",
              "      <td>@ home studying for maths wooot ! im so going ...</td>\n",
              "      <td>0</td>\n",
              "    </tr>\n",
              "  </tbody>\n",
              "</table>\n",
              "<p>2444185 rows × 2 columns</p>\n",
              "</div>"
            ],
            "text/plain": [
              "                                                   content  label\n",
              "0        \"We have a sitting Democrat US Senator on tria...      1\n",
              "1        Marshawn Lynch arrives to game in anti-Trump s...      1\n",
              "2        JUST IN: President Trump dedicates Presidents ...      1\n",
              "3        Dan Bongino: \"Nobody trolls liberals better th...      1\n",
              "4        '@SenatorMenendez @CarmenYulinCruz Doesn't mat...      1\n",
              "...                                                    ...    ...\n",
              "259178   this song's middle change just doesn't want to...      0\n",
              "1414414               @officialnjonas Good luck with that       0\n",
              "131932            @ProudGamerTweet I rather average 32370       0\n",
              "671155   Pickin up @misstinayao waitin on @sadittysash ...      0\n",
              "121958   @ home studying for maths wooot ! im so going ...      0\n",
              "\n",
              "[2444185 rows x 2 columns]"
            ]
          },
          "metadata": {
            "tags": []
          },
          "execution_count": 76
        }
      ]
    },
    {
      "cell_type": "code",
      "metadata": {
        "id": "o7cbf_wn5YUV",
        "colab_type": "code",
        "colab": {}
      },
      "source": [
        "train_df.to_csv('train_df.csv')\n",
        "!cp train_df.csv \"drive/My Drive/\""
      ],
      "execution_count": 0,
      "outputs": []
    },
    {
      "cell_type": "markdown",
      "metadata": {
        "id": "lKqrKEl75rKw",
        "colab_type": "text"
      },
      "source": [
        "# Making my final test set"
      ]
    },
    {
      "cell_type": "code",
      "metadata": {
        "id": "pRjU5jBE5tX0",
        "colab_type": "code",
        "colab": {
          "base_uri": "https://localhost:8080/",
          "height": 419
        },
        "outputId": "958dcf9c-380a-4c2f-9cac-9f3130b172d0"
      },
      "source": [
        "test1 = pd.DataFrame(test['content'])\n",
        "test1['label'] = [1] * len(test1)\n",
        "test1"
      ],
      "execution_count": 78,
      "outputs": [
        {
          "output_type": "execute_result",
          "data": {
            "text/html": [
              "<div>\n",
              "<style scoped>\n",
              "    .dataframe tbody tr th:only-of-type {\n",
              "        vertical-align: middle;\n",
              "    }\n",
              "\n",
              "    .dataframe tbody tr th {\n",
              "        vertical-align: top;\n",
              "    }\n",
              "\n",
              "    .dataframe thead th {\n",
              "        text-align: right;\n",
              "    }\n",
              "</style>\n",
              "<table border=\"1\" class=\"dataframe\">\n",
              "  <thead>\n",
              "    <tr style=\"text-align: right;\">\n",
              "      <th></th>\n",
              "      <th>content</th>\n",
              "      <th>label</th>\n",
              "    </tr>\n",
              "  </thead>\n",
              "  <tbody>\n",
              "    <tr>\n",
              "      <th>293</th>\n",
              "      <td>U don't like Carson - u r racist, U don't like...</td>\n",
              "      <td>1</td>\n",
              "    </tr>\n",
              "    <tr>\n",
              "      <th>294</th>\n",
              "      <td>Some idiotic show on MTV would be more informa...</td>\n",
              "      <td>1</td>\n",
              "    </tr>\n",
              "    <tr>\n",
              "      <th>295</th>\n",
              "      <td>God is not a franchise of the Republican Party...</td>\n",
              "      <td>1</td>\n",
              "    </tr>\n",
              "    <tr>\n",
              "      <th>296</th>\n",
              "      <td>#Cruz is the worst candidate for our country #...</td>\n",
              "      <td>1</td>\n",
              "    </tr>\n",
              "    <tr>\n",
              "      <th>297</th>\n",
              "      <td>Whatever happened to #Bush? Where’s he hiding?...</td>\n",
              "      <td>1</td>\n",
              "    </tr>\n",
              "    <tr>\n",
              "      <th>...</th>\n",
              "      <td>...</td>\n",
              "      <td>...</td>\n",
              "    </tr>\n",
              "    <tr>\n",
              "      <th>1287</th>\n",
              "      <td>My man treats me as a Princess. My Prince!</td>\n",
              "      <td>1</td>\n",
              "    </tr>\n",
              "    <tr>\n",
              "      <th>1288</th>\n",
              "      <td>My guy loves me because he looks at me when it...</td>\n",
              "      <td>1</td>\n",
              "    </tr>\n",
              "    <tr>\n",
              "      <th>1289</th>\n",
              "      <td>Obviously I’ll spent my life among cats not men</td>\n",
              "      <td>1</td>\n",
              "    </tr>\n",
              "    <tr>\n",
              "      <th>1290</th>\n",
              "      <td>https://t.co/wBdMLCSyAT he is just young *))</td>\n",
              "      <td>1</td>\n",
              "    </tr>\n",
              "    <tr>\n",
              "      <th>1291</th>\n",
              "      <td>#GoodWillHunting #ProfGeraldLambeau: Most days...</td>\n",
              "      <td>1</td>\n",
              "    </tr>\n",
              "  </tbody>\n",
              "</table>\n",
              "<p>188663 rows × 2 columns</p>\n",
              "</div>"
            ],
            "text/plain": [
              "                                                content  label\n",
              "293   U don't like Carson - u r racist, U don't like...      1\n",
              "294   Some idiotic show on MTV would be more informa...      1\n",
              "295   God is not a franchise of the Republican Party...      1\n",
              "296   #Cruz is the worst candidate for our country #...      1\n",
              "297   Whatever happened to #Bush? Where’s he hiding?...      1\n",
              "...                                                 ...    ...\n",
              "1287         My man treats me as a Princess. My Prince!      1\n",
              "1288  My guy loves me because he looks at me when it...      1\n",
              "1289    Obviously I’ll spent my life among cats not men      1\n",
              "1290       https://t.co/wBdMLCSyAT he is just young *))      1\n",
              "1291  #GoodWillHunting #ProfGeraldLambeau: Most days...      1\n",
              "\n",
              "[188663 rows x 2 columns]"
            ]
          },
          "metadata": {
            "tags": []
          },
          "execution_count": 78
        }
      ]
    },
    {
      "cell_type": "code",
      "metadata": {
        "id": "B0ZAS0OG6GKy",
        "colab_type": "code",
        "colab": {
          "base_uri": "https://localhost:8080/",
          "height": 419
        },
        "outputId": "2bdbbc60-b55e-4990-9c8f-899e2c30c772"
      },
      "source": [
        "test2 = pd.DataFrame(non_ira_test['text'])\n",
        "test2 = test2.rename(columns = {\"text\":\"content\"}) \n",
        "test2"
      ],
      "execution_count": 79,
      "outputs": [
        {
          "output_type": "execute_result",
          "data": {
            "text/html": [
              "<div>\n",
              "<style scoped>\n",
              "    .dataframe tbody tr th:only-of-type {\n",
              "        vertical-align: middle;\n",
              "    }\n",
              "\n",
              "    .dataframe tbody tr th {\n",
              "        vertical-align: top;\n",
              "    }\n",
              "\n",
              "    .dataframe thead th {\n",
              "        text-align: right;\n",
              "    }\n",
              "</style>\n",
              "<table border=\"1\" class=\"dataframe\">\n",
              "  <thead>\n",
              "    <tr style=\"text-align: right;\">\n",
              "      <th></th>\n",
              "      <th>content</th>\n",
              "    </tr>\n",
              "  </thead>\n",
              "  <tbody>\n",
              "    <tr>\n",
              "      <th>541200</th>\n",
              "      <td>@chrishasboobs AHHH I HOPE YOUR OK!!!</td>\n",
              "    </tr>\n",
              "    <tr>\n",
              "      <th>750</th>\n",
              "      <td>@misstoriblack cool , i have no tweet apps  fo...</td>\n",
              "    </tr>\n",
              "    <tr>\n",
              "      <th>766711</th>\n",
              "      <td>@TiannaChaos i know  just family drama. its la...</td>\n",
              "    </tr>\n",
              "    <tr>\n",
              "      <th>285055</th>\n",
              "      <td>School email won't open  and I have geography ...</td>\n",
              "    </tr>\n",
              "    <tr>\n",
              "      <th>705995</th>\n",
              "      <td>upper airways problem</td>\n",
              "    </tr>\n",
              "    <tr>\n",
              "      <th>...</th>\n",
              "      <td>...</td>\n",
              "    </tr>\n",
              "    <tr>\n",
              "      <th>1392448</th>\n",
              "      <td>says went Bukit Jambul n Queensbay  http://plu...</td>\n",
              "    </tr>\n",
              "    <tr>\n",
              "      <th>1339201</th>\n",
              "      <td>@grshane I do have a beach cruiser! The farthe...</td>\n",
              "    </tr>\n",
              "    <tr>\n",
              "      <th>1197998</th>\n",
              "      <td>@KrystinNotRated me too!</td>\n",
              "    </tr>\n",
              "    <tr>\n",
              "      <th>125362</th>\n",
              "      <td>@Audio_Rush Just finished browsing at her cont...</td>\n",
              "    </tr>\n",
              "    <tr>\n",
              "      <th>783931</th>\n",
              "      <td>I need a holiday...</td>\n",
              "    </tr>\n",
              "  </tbody>\n",
              "</table>\n",
              "<p>240000 rows × 1 columns</p>\n",
              "</div>"
            ],
            "text/plain": [
              "                                                   content\n",
              "541200              @chrishasboobs AHHH I HOPE YOUR OK!!! \n",
              "750      @misstoriblack cool , i have no tweet apps  fo...\n",
              "766711   @TiannaChaos i know  just family drama. its la...\n",
              "285055   School email won't open  and I have geography ...\n",
              "705995                              upper airways problem \n",
              "...                                                    ...\n",
              "1392448  says went Bukit Jambul n Queensbay  http://plu...\n",
              "1339201  @grshane I do have a beach cruiser! The farthe...\n",
              "1197998                          @KrystinNotRated me too! \n",
              "125362   @Audio_Rush Just finished browsing at her cont...\n",
              "783931                                I need a holiday... \n",
              "\n",
              "[240000 rows x 1 columns]"
            ]
          },
          "metadata": {
            "tags": []
          },
          "execution_count": 79
        }
      ]
    },
    {
      "cell_type": "code",
      "metadata": {
        "id": "hVRZhzmR6YXu",
        "colab_type": "code",
        "colab": {
          "base_uri": "https://localhost:8080/",
          "height": 419
        },
        "outputId": "125604f1-98a0-4b7f-e026-c8f7cddb44f2"
      },
      "source": [
        "test2['label'] = [0] * len(test2)\n",
        "test2"
      ],
      "execution_count": 80,
      "outputs": [
        {
          "output_type": "execute_result",
          "data": {
            "text/html": [
              "<div>\n",
              "<style scoped>\n",
              "    .dataframe tbody tr th:only-of-type {\n",
              "        vertical-align: middle;\n",
              "    }\n",
              "\n",
              "    .dataframe tbody tr th {\n",
              "        vertical-align: top;\n",
              "    }\n",
              "\n",
              "    .dataframe thead th {\n",
              "        text-align: right;\n",
              "    }\n",
              "</style>\n",
              "<table border=\"1\" class=\"dataframe\">\n",
              "  <thead>\n",
              "    <tr style=\"text-align: right;\">\n",
              "      <th></th>\n",
              "      <th>content</th>\n",
              "      <th>label</th>\n",
              "    </tr>\n",
              "  </thead>\n",
              "  <tbody>\n",
              "    <tr>\n",
              "      <th>541200</th>\n",
              "      <td>@chrishasboobs AHHH I HOPE YOUR OK!!!</td>\n",
              "      <td>0</td>\n",
              "    </tr>\n",
              "    <tr>\n",
              "      <th>750</th>\n",
              "      <td>@misstoriblack cool , i have no tweet apps  fo...</td>\n",
              "      <td>0</td>\n",
              "    </tr>\n",
              "    <tr>\n",
              "      <th>766711</th>\n",
              "      <td>@TiannaChaos i know  just family drama. its la...</td>\n",
              "      <td>0</td>\n",
              "    </tr>\n",
              "    <tr>\n",
              "      <th>285055</th>\n",
              "      <td>School email won't open  and I have geography ...</td>\n",
              "      <td>0</td>\n",
              "    </tr>\n",
              "    <tr>\n",
              "      <th>705995</th>\n",
              "      <td>upper airways problem</td>\n",
              "      <td>0</td>\n",
              "    </tr>\n",
              "    <tr>\n",
              "      <th>...</th>\n",
              "      <td>...</td>\n",
              "      <td>...</td>\n",
              "    </tr>\n",
              "    <tr>\n",
              "      <th>1392448</th>\n",
              "      <td>says went Bukit Jambul n Queensbay  http://plu...</td>\n",
              "      <td>0</td>\n",
              "    </tr>\n",
              "    <tr>\n",
              "      <th>1339201</th>\n",
              "      <td>@grshane I do have a beach cruiser! The farthe...</td>\n",
              "      <td>0</td>\n",
              "    </tr>\n",
              "    <tr>\n",
              "      <th>1197998</th>\n",
              "      <td>@KrystinNotRated me too!</td>\n",
              "      <td>0</td>\n",
              "    </tr>\n",
              "    <tr>\n",
              "      <th>125362</th>\n",
              "      <td>@Audio_Rush Just finished browsing at her cont...</td>\n",
              "      <td>0</td>\n",
              "    </tr>\n",
              "    <tr>\n",
              "      <th>783931</th>\n",
              "      <td>I need a holiday...</td>\n",
              "      <td>0</td>\n",
              "    </tr>\n",
              "  </tbody>\n",
              "</table>\n",
              "<p>240000 rows × 2 columns</p>\n",
              "</div>"
            ],
            "text/plain": [
              "                                                   content  label\n",
              "541200              @chrishasboobs AHHH I HOPE YOUR OK!!!       0\n",
              "750      @misstoriblack cool , i have no tweet apps  fo...      0\n",
              "766711   @TiannaChaos i know  just family drama. its la...      0\n",
              "285055   School email won't open  and I have geography ...      0\n",
              "705995                              upper airways problem       0\n",
              "...                                                    ...    ...\n",
              "1392448  says went Bukit Jambul n Queensbay  http://plu...      0\n",
              "1339201  @grshane I do have a beach cruiser! The farthe...      0\n",
              "1197998                          @KrystinNotRated me too!       0\n",
              "125362   @Audio_Rush Just finished browsing at her cont...      0\n",
              "783931                                I need a holiday...       0\n",
              "\n",
              "[240000 rows x 2 columns]"
            ]
          },
          "metadata": {
            "tags": []
          },
          "execution_count": 80
        }
      ]
    },
    {
      "cell_type": "code",
      "metadata": {
        "id": "cJsO8EST6hRI",
        "colab_type": "code",
        "colab": {
          "base_uri": "https://localhost:8080/",
          "height": 34
        },
        "outputId": "4979eadd-21c7-464e-c13c-b18f312dbe12"
      },
      "source": [
        "test_df = pd.concat([test1, test2])\n",
        "test_df.shape"
      ],
      "execution_count": 81,
      "outputs": [
        {
          "output_type": "execute_result",
          "data": {
            "text/plain": [
              "(428663, 2)"
            ]
          },
          "metadata": {
            "tags": []
          },
          "execution_count": 81
        }
      ]
    },
    {
      "cell_type": "code",
      "metadata": {
        "id": "N-nquUln6tt6",
        "colab_type": "code",
        "colab": {}
      },
      "source": [
        "test_df.to_csv('test_df.csv')\n",
        "!cp test_df.csv \"drive/My Drive/\""
      ],
      "execution_count": 0,
      "outputs": []
    }
  ]
}